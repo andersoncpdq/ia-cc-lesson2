{
 "cells": [
  {
   "cell_type": "code",
   "execution_count": 1,
   "outputs": [],
   "source": [
    "import warnings\n",
    "warnings.filterwarnings('always')\n",
    "warnings.filterwarnings('ignore')\n",
    "\n",
    "import numpy as np\n",
    "import pandas as pd\n",
    "import matplotlib.pyplot as plt\n",
    "%matplotlib inline\n",
    "import seaborn as sns\n",
    "from sklearn.model_selection import train_test_split\n",
    "import keras\n",
    "from keras.preprocessing.image import ImageDataGenerator\n",
    "from keras.models import Model\n",
    "from keras.layers import Dropout, Flatten, Input, Dense\n",
    "from keras.layers import Conv2D, MaxPooling2D, BatchNormalization\n",
    "import random\n",
    "import tensorflow as tf\n",
    "import os\n",
    "import glob\n",
    "\n",
    "from src.computer_vision_preproc import *\n",
    "import cv2\n",
    "import matplotlib.pyplot as plt\n",
    "import time"
   ],
   "metadata": {
    "collapsed": false,
    "pycharm": {
     "name": "#%%\n"
    }
   }
  },
  {
   "cell_type": "code",
   "execution_count": 2,
   "outputs": [
    {
     "name": "stdout",
     "output_type": "stream",
     "text": [
      "integras:  1092\n"
     ]
    }
   ],
   "source": [
    "# class_labels: {'confluente': 0, 'esparsa': 1, 'integra': 2, 'rara': 3}\n",
    "\n",
    "# entrada de dados + redimensionamento:\n",
    "# glob.glob(\"<your image directory path>\\\\*.png\"):\n",
    "#confluentes = glob.glob(\"data_especular_crop\\\\train_images\\\\confluente\\\\*.png\")\n",
    "#confluentes = confluentes + glob.glob(os.path.join('data_especular_crop/test_images/confluente', '*'))\n",
    "#confluentes = [path for path in confluentes]\n",
    "\n",
    "#esparsas = glob.glob(os.path.join('data_especular_crop/train_images/esparsa', '*'))\n",
    "#esparsas = esparsas + glob.glob(os.path.join('data_especular_crop/test_images/esparsa', '*'))\n",
    "#esparsas = [path for path in esparsas]\n",
    "\n",
    "#glob.glob(\"<your image directory path>\\\\*.png\"):\n",
    "integras = glob.glob(\"data_especular_crop\\\\train_images\\\\integra\\\\*.png\")\n",
    "integras = integras + glob.glob(\"data_especular_crop\\\\test_images\\\\integra\\\\*.png\")\n",
    "#integras = sorted(os.listdir('data_especular_crop/train_images/integra'))\n",
    "#integras = integras + sorted(os.listdir('data_especular_crop/test_images/integra'))\n",
    "integras = [path for path in integras]\n",
    "\n",
    "#raras = glob.glob(os.path.join('data_especular_crop/train_images/rara', '*'))\n",
    "#raras = raras + glob.glob(os.path.join('data_especular_crop/test_images/rara', '*'))\n",
    "#raras = [path for path in raras]\n",
    "\n",
    "#print('confluentes: ', len(confluentes))\n",
    "#print('esparsas: ', len(esparsas))\n",
    "print('integras: ', len(integras))\n",
    "#print('raras: ', len(raras))\n"
   ],
   "metadata": {
    "collapsed": false,
    "pycharm": {
     "name": "#%%\n"
    }
   }
  },
  {
   "cell_type": "code",
   "execution_count": 3,
   "outputs": [
    {
     "name": "stdout",
     "output_type": "stream",
     "text": [
      "1092\n"
     ]
    }
   ],
   "source": [
    "#X_path = confluentes + esparsas + integras + raras\n",
    "X_path = integras\n",
    "print(len(X_path))\n",
    "\n",
    "X = [np.array(resize(path)) for path in X_path]\n",
    "X = np.array(X)\n",
    "X = X / 255"
   ],
   "metadata": {
    "collapsed": false,
    "pycharm": {
     "name": "#%%\n"
    }
   }
  },
  {
   "cell_type": "code",
   "execution_count": 3,
   "outputs": [],
   "source": [],
   "metadata": {
    "collapsed": false,
    "pycharm": {
     "name": "#%%\n"
    }
   }
  },
  {
   "cell_type": "code",
   "execution_count": 4,
   "outputs": [
    {
     "data": {
      "text/plain": "(585, 315, 3)"
     },
     "execution_count": 4,
     "metadata": {},
     "output_type": "execute_result"
    }
   ],
   "source": [
    "img = cv2.imread(integras[1])\n",
    "img.shape"
   ],
   "metadata": {
    "collapsed": false,
    "pycharm": {
     "name": "#%%\n"
    }
   }
  },
  {
   "cell_type": "code",
   "execution_count": 4,
   "outputs": [],
   "source": [],
   "metadata": {
    "collapsed": false,
    "pycharm": {
     "name": "#%%\n"
    }
   }
  }
 ],
 "metadata": {
  "kernelspec": {
   "display_name": "Python 3",
   "language": "python",
   "name": "python3"
  },
  "language_info": {
   "codemirror_mode": {
    "name": "ipython",
    "version": 2
   },
   "file_extension": ".py",
   "mimetype": "text/x-python",
   "name": "python",
   "nbconvert_exporter": "python",
   "pygments_lexer": "ipython2",
   "version": "2.7.6"
  }
 },
 "nbformat": 4,
 "nbformat_minor": 0
}